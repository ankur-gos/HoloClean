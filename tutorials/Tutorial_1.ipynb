{
 "cells": [
  {
   "cell_type": "markdown",
   "metadata": {},
   "source": [
    "Our `Session` manages a connection to the Postgres database automatically  and allows us to save intermediate results."
   ]
  },
  {
   "cell_type": "markdown",
   "metadata": {},
   "source": [
    "The first in our set of tutorials introduces the infrastructure of `HoloClean` and presents the initial steps needed to get your data interacting with `HoloClean`. We'll also discuss Denial Constraints, the primary source of information that `HoloClean` uses to perform repairs."
   ]
  },
  {
   "cell_type": "markdown",
   "metadata": {},
   "source": [
    "# Intro to Holoclean: Data Loading and Denial Constraints"
   ]
  },
  {
   "cell_type": "markdown",
   "metadata": {},
   "source": [
    "## Part 1: Setup & Loading Data"
   ]
  },
  {
   "cell_type": "markdown",
   "metadata": {},
   "source": [
    "### Connecting to the Database"
   ]
  },
  {
   "cell_type": "markdown",
   "metadata": {},
   "source": [
    "Without further ado, let's see some code! We begin by initializing `HoloClean` and `Session` objects."
   ]
  },
  {
   "cell_type": "code",
   "execution_count": 1,
   "metadata": {},
   "outputs": [
    {
     "name": "stderr",
     "output_type": "stream",
     "text": [
      "/Users/ankurgos/.virtualenvs/holo/lib/python2.7/site-packages/psycopg2-2.7.4-py2.7-macosx-10.13-intel.egg/psycopg2/__init__.py:144: UserWarning: The psycopg2 wheel package will be renamed from release 2.8; in order to keep installing from binary please use \"pip install psycopg2-binary\" instead. For details see: <http://initd.org/psycopg/docs/install.html#binary-install-from-pypi>.\n",
      "  \"\"\")\n"
     ]
    },
    {
     "name": "stdout",
     "output_type": "stream",
     "text": [
      "Using Dask\n"
     ]
    }
   ],
   "source": [
    "from holoclean.holoclean import HoloClean, Session\n",
    "\n",
    "holo =      HoloClean(\n",
    "            holoclean_path=\"..\",         # path to holoclean package\n",
    "            verbose=False,\n",
    "            # to limit possible values for training data\n",
    "            pruning_threshold1=0.1,\n",
    "            # to limit possible values for training data to less than k values\n",
    "            pruning_clean_breakoff=6,\n",
    "            # to limit possible values for dirty data (applied after\n",
    "            # Threshold 1)\n",
    "            pruning_threshold2=0,\n",
    "            # to limit possible values for dirty data to less than k values\n",
    "            pruning_dk_breakoff=6,\n",
    "            # learning parameters\n",
    "            learning_iterations=30,\n",
    "            learning_rate=0.001,\n",
    "            batch_size=5\n",
    "        )\n",
    "session = Session(holo)"
   ]
  },
  {
   "cell_type": "markdown",
   "metadata": {},
   "source": [
    "### Loading Data"
   ]
  },
  {
   "cell_type": "markdown",
   "metadata": {},
   "source": [
    "Next, we ingest the hospital data we'd like to clean. This is a commonly used research dataset that we'll be using for all of our introductory tutorials."
   ]
  },
  {
   "cell_type": "code",
   "execution_count": 2,
   "metadata": {},
   "outputs": [],
   "source": [
    "data_path = \"data/hospital.csv\"\n",
    "\n",
    "data = session.load_data(data_path)"
   ]
  },
  {
   "cell_type": "markdown",
   "metadata": {},
   "source": [
    "At this time, we only support .csv files for our data format. \n",
    "\n",
    "The data is then loaded into the database and a representation is returned. `HoloClean` uses PySpark DataFrames as its internal data structure and so any PySpark operations can be used.\n",
    "\n",
    "For Example:"
   ]
  },
  {
   "cell_type": "code",
   "execution_count": 3,
   "metadata": {},
   "outputs": [
    {
     "name": "stdout",
     "output_type": "stream",
     "text": [
      "+--------------------+----------+\n",
      "|        HospitalName|      City|\n",
      "+--------------------+----------+\n",
      "|callahan eye foun...|birmingham|\n",
      "|callahan eye foun...|birmingham|\n",
      "|callahan eye foun...|birmingham|\n",
      "|callahan eye foun...|birminghxm|\n",
      "|callahan eye foun...|birmingham|\n",
      "+--------------------+----------+\n",
      "only showing top 5 rows\n",
      "\n"
     ]
    }
   ],
   "source": [
    "data.select('HospitalName', 'City').show(5)"
   ]
  },
  {
   "cell_type": "code",
   "execution_count": 4,
   "metadata": {},
   "outputs": [
    {
     "name": "stdout",
     "output_type": "stream",
     "text": [
      "root\n",
      " |-- ProviderNumber: string (nullable = true)\n",
      " |-- HospitalName: string (nullable = true)\n",
      " |-- Address1: string (nullable = true)\n",
      " |-- Address2: string (nullable = true)\n",
      " |-- Address3: string (nullable = true)\n",
      " |-- City: string (nullable = true)\n",
      " |-- State: string (nullable = true)\n",
      " |-- ZipCode: string (nullable = true)\n",
      " |-- CountyName: string (nullable = true)\n",
      " |-- PhoneNumber: string (nullable = true)\n",
      " |-- HospitalType: string (nullable = true)\n",
      " |-- HospitalOwner: string (nullable = true)\n",
      " |-- EmergencyService: string (nullable = true)\n",
      " |-- Condition: string (nullable = true)\n",
      " |-- MeasureCode: string (nullable = true)\n",
      " |-- MeasureName: string (nullable = true)\n",
      " |-- Score: string (nullable = true)\n",
      " |-- Sample: string (nullable = true)\n",
      " |-- Stateavg: string (nullable = true)\n",
      " |-- __ind: long (nullable = true)\n",
      "\n"
     ]
    }
   ],
   "source": [
    "data.printSchema()"
   ]
  },
  {
   "cell_type": "code",
   "execution_count": 5,
   "metadata": {},
   "outputs": [
    {
     "data": {
      "text/plain": [
       "1000"
      ]
     },
     "execution_count": 5,
     "metadata": {},
     "output_type": "execute_result"
    }
   ],
   "source": [
    "data.count()"
   ]
  },
  {
   "cell_type": "markdown",
   "metadata": {},
   "source": [
    "Please see the [Apache Spark website](https://spark.apache.org/docs/latest/sql-programming-guide.html) for a full guide through DataFrames and their functionality."
   ]
  },
  {
   "cell_type": "markdown",
   "metadata": {},
   "source": [
    "## Part 2: Introduction to Denial Constraints\n"
   ]
  },
  {
   "cell_type": "markdown",
   "metadata": {},
   "source": [
    "HoloClean's goal is to clean your data, and the system is driven by a description of what clean data *should* be like. These are expressed in the form of a Denial Constraint, which is similar to a [functional dependency](https://en.wikipedia.org/wiki/Functional_dependency). However, functional dependencies express things that should hold for your data, a denial constraint expresses what clean data is not like.\n",
    "\n",
    "### An Example: The Hospital Dataset\n",
    "\n",
    "This tutorial will walk through one of the Denial Constraints used in the Hospital Dataset. The data has the following fields:\n",
    "\n",
    "\n",
    "\n",
    "\n",
    "\n",
    "`\n",
    "index,\n",
    "ProviderNumber,\n",
    "HospitalName,\n",
    "Address1,\n",
    "Address2,\n",
    "Address3,\n",
    "City,\n",
    "State,\n",
    "ZipCode,\n",
    "CountyName,\n",
    "PhoneNumber,\n",
    "HospitalType,\n",
    "HospitalOwner,\n",
    "EmergencyService,\n",
    "Condition,\n",
    "MeasureCode,\n",
    "MeasureName,\n",
    "Score,\n",
    "Sample,\n",
    "Stateavg`\n",
    "\n",
    "\n",
    "And we know that there are some errors in our data. For example some people have mistyped the city name, and so we see results like"
   ]
  },
  {
   "cell_type": "code",
   "execution_count": 6,
   "metadata": {},
   "outputs": [
    {
     "name": "stdout",
     "output_type": "stream",
     "text": [
      "+----------+-------+\n",
      "|      City|ZipCode|\n",
      "+----------+-------+\n",
      "|birmingham|  35233|\n",
      "|birmingham|  35233|\n",
      "|birmingham|  35233|\n",
      "|birminghxm|  35233|\n",
      "|birmingham|  35233|\n",
      "|birmingham|  35233|\n",
      "|birmingham|  35233|\n",
      "|birmingxam|  35233|\n",
      "| sheffield|  35660|\n",
      "| sheffield|  35660|\n",
      "| sheffxeld|  35660|\n",
      "| sheffield|  35660|\n",
      "| sheffield|  35660|\n",
      "| sheffield|  35660|\n",
      "| sheffield|  35660|\n",
      "| sheffield|  35660|\n",
      "| sheffield|  35660|\n",
      "| sheffield|  35660|\n",
      "| sheffield|  35660|\n",
      "|    dothan|  36302|\n",
      "+----------+-------+\n",
      "only showing top 20 rows\n",
      "\n"
     ]
    }
   ],
   "source": [
    "data.select('City', 'ZipCode').show()"
   ]
  },
  {
   "cell_type": "markdown",
   "metadata": {},
   "source": [
    "Clearly we have an issue with a city called `BIRMGINxAM`. However, we know that whenever the zip codes are the same, the city should be the same. In the language of functional dependencies we could write this as: for any records $t_1, t_2$\n",
    "\n",
    "$$t_1.ZipCode = t_2.ZipCode \\implies t_1.City = t_2.City$$\n",
    "\n",
    "However the HoloClean denial constraint will be.\n",
    "\n",
    "`t1&t2&EQ(t1.ZipCode,t2.ZipCode)&IQ(t1.City,t2.City)`\n",
    "\n",
    "Let's break down how this works:`t1&t2` specifies that two records will be involved in the error. `EQ(t1.ZipCode, t2.ZipCode)&IQ(t1.City, t2.City)` says that the records will have equal zip codes, but inequal cities. Now any pairs of records in the hospital dataset which make this true will be marked as potentially dirty.\n",
    "\n",
    "\n",
    "## Adding Denial Constraints to HoloClean\n",
    "There are multiple ways to add denial constraints to the system, the first is to load from a text file"
   ]
  },
  {
   "cell_type": "code",
   "execution_count": null,
   "metadata": {},
   "outputs": [
    {
     "name": "stdout",
     "output_type": "stream",
     "text": [
      "> \u001b[0;32m/Users/ankurgos/HoloClean/tutorials/build/bdist.macosx-10.13-intel/egg/holoclean/utils/parser_interface.py\u001b[0m(38)\u001b[0;36mload_denial_constraints\u001b[0;34m()\u001b[0m\n",
      "\n",
      "ipdb> p\n",
      "*** SyntaxError: SyntaxError('unexpected EOF while parsing', ('<string>', 0, 0, ''))\n",
      "ipdb> w\n",
      "  \u001b[0;32m/System/Library/Frameworks/Python.framework/Versions/2.7/lib/python2.7/runpy.py\u001b[0m(162)\u001b[0;36m_run_module_as_main\u001b[0;34m()\u001b[0m\n",
      "\u001b[1;32m    161 \u001b[0m    return _run_code(code, main_globals, None,\n",
      "\u001b[0;32m--> 162 \u001b[0;31m                     \"__main__\", fname, loader, pkg_name)\n",
      "\u001b[0m\u001b[1;32m    163 \u001b[0m\u001b[0;34m\u001b[0m\u001b[0m\n",
      "\n",
      "  \u001b[0;32m/System/Library/Frameworks/Python.framework/Versions/2.7/lib/python2.7/runpy.py\u001b[0m(72)\u001b[0;36m_run_code\u001b[0;34m()\u001b[0m\n",
      "\u001b[1;32m     71 \u001b[0m                       __package__ = pkg_name)\n",
      "\u001b[0;32m---> 72 \u001b[0;31m    \u001b[0;32mexec\u001b[0m \u001b[0mcode\u001b[0m \u001b[0;32min\u001b[0m \u001b[0mrun_globals\u001b[0m\u001b[0;34m\u001b[0m\u001b[0m\n",
      "\u001b[0m\u001b[1;32m     73 \u001b[0m    \u001b[0;32mreturn\u001b[0m \u001b[0mrun_globals\u001b[0m\u001b[0;34m\u001b[0m\u001b[0m\n",
      "\n",
      "  \u001b[0;32m/Users/ankurgos/.virtualenvs/holo/lib/python2.7/site-packages/ipykernel-4.8.2-py2.7.egg/ipykernel_launcher.py\u001b[0m(16)\u001b[0;36m<module>\u001b[0;34m()\u001b[0m\n",
      "\u001b[1;32m     14 \u001b[0m\u001b[0;34m\u001b[0m\u001b[0m\n",
      "\u001b[1;32m     15 \u001b[0m    \u001b[0;32mfrom\u001b[0m \u001b[0mipykernel\u001b[0m \u001b[0;32mimport\u001b[0m \u001b[0mkernelapp\u001b[0m \u001b[0;32mas\u001b[0m \u001b[0mapp\u001b[0m\u001b[0;34m\u001b[0m\u001b[0m\n",
      "\u001b[0;32m---> 16 \u001b[0;31m    \u001b[0mapp\u001b[0m\u001b[0;34m.\u001b[0m\u001b[0mlaunch_new_instance\u001b[0m\u001b[0;34m(\u001b[0m\u001b[0;34m)\u001b[0m\u001b[0;34m\u001b[0m\u001b[0m\n",
      "\u001b[0m\n",
      "  \u001b[0;32m/Users/ankurgos/.virtualenvs/holo/lib/python2.7/site-packages/traitlets-4.3.2-py2.7.egg/traitlets/config/application.py\u001b[0m(658)\u001b[0;36mlaunch_instance\u001b[0;34m()\u001b[0m\n",
      "\u001b[1;32m    657 \u001b[0m        \u001b[0mapp\u001b[0m\u001b[0;34m.\u001b[0m\u001b[0minitialize\u001b[0m\u001b[0;34m(\u001b[0m\u001b[0margv\u001b[0m\u001b[0;34m)\u001b[0m\u001b[0;34m\u001b[0m\u001b[0m\n",
      "\u001b[0;32m--> 658 \u001b[0;31m        \u001b[0mapp\u001b[0m\u001b[0;34m.\u001b[0m\u001b[0mstart\u001b[0m\u001b[0;34m(\u001b[0m\u001b[0;34m)\u001b[0m\u001b[0;34m\u001b[0m\u001b[0m\n",
      "\u001b[0m\u001b[1;32m    659 \u001b[0m\u001b[0;34m\u001b[0m\u001b[0m\n",
      "\n",
      "  \u001b[0;32m/Users/ankurgos/.virtualenvs/holo/lib/python2.7/site-packages/ipykernel-4.8.2-py2.7.egg/ipykernel/kernelapp.py\u001b[0m(486)\u001b[0;36mstart\u001b[0;34m()\u001b[0m\n",
      "\u001b[1;32m    485 \u001b[0m        \u001b[0;32mtry\u001b[0m\u001b[0;34m:\u001b[0m\u001b[0;34m\u001b[0m\u001b[0m\n",
      "\u001b[0;32m--> 486 \u001b[0;31m            \u001b[0mself\u001b[0m\u001b[0;34m.\u001b[0m\u001b[0mio_loop\u001b[0m\u001b[0;34m.\u001b[0m\u001b[0mstart\u001b[0m\u001b[0;34m(\u001b[0m\u001b[0;34m)\u001b[0m\u001b[0;34m\u001b[0m\u001b[0m\n",
      "\u001b[0m\u001b[1;32m    487 \u001b[0m        \u001b[0;32mexcept\u001b[0m \u001b[0mKeyboardInterrupt\u001b[0m\u001b[0;34m:\u001b[0m\u001b[0;34m\u001b[0m\u001b[0m\n",
      "\n",
      "  \u001b[0;32m/Users/ankurgos/.virtualenvs/holo/lib/python2.7/site-packages/tornado-5.1b1-py2.7-macosx-10.13-intel.egg/tornado/ioloop.py\u001b[0m(1017)\u001b[0;36mstart\u001b[0;34m()\u001b[0m\n",
      "\u001b[1;32m   1016 \u001b[0m                \u001b[0;32mfor\u001b[0m \u001b[0mi\u001b[0m \u001b[0;32min\u001b[0m \u001b[0mrange\u001b[0m\u001b[0;34m(\u001b[0m\u001b[0mncallbacks\u001b[0m\u001b[0;34m)\u001b[0m\u001b[0;34m:\u001b[0m\u001b[0;34m\u001b[0m\u001b[0m\n",
      "\u001b[0;32m-> 1017 \u001b[0;31m                    \u001b[0mself\u001b[0m\u001b[0;34m.\u001b[0m\u001b[0m_run_callback\u001b[0m\u001b[0;34m(\u001b[0m\u001b[0mself\u001b[0m\u001b[0;34m.\u001b[0m\u001b[0m_callbacks\u001b[0m\u001b[0;34m.\u001b[0m\u001b[0mpopleft\u001b[0m\u001b[0;34m(\u001b[0m\u001b[0;34m)\u001b[0m\u001b[0;34m)\u001b[0m\u001b[0;34m\u001b[0m\u001b[0m\n",
      "\u001b[0m\u001b[1;32m   1018 \u001b[0m                \u001b[0;32mfor\u001b[0m \u001b[0mtimeout\u001b[0m \u001b[0;32min\u001b[0m \u001b[0mdue_timeouts\u001b[0m\u001b[0;34m:\u001b[0m\u001b[0;34m\u001b[0m\u001b[0m\n",
      "\n",
      "  \u001b[0;32m/Users/ankurgos/.virtualenvs/holo/lib/python2.7/site-packages/tornado-5.1b1-py2.7-macosx-10.13-intel.egg/tornado/ioloop.py\u001b[0m(758)\u001b[0;36m_run_callback\u001b[0;34m()\u001b[0m\n",
      "\u001b[1;32m    757 \u001b[0m        \u001b[0;32mtry\u001b[0m\u001b[0;34m:\u001b[0m\u001b[0;34m\u001b[0m\u001b[0m\n",
      "\u001b[0;32m--> 758 \u001b[0;31m            \u001b[0mret\u001b[0m \u001b[0;34m=\u001b[0m \u001b[0mcallback\u001b[0m\u001b[0;34m(\u001b[0m\u001b[0;34m)\u001b[0m\u001b[0;34m\u001b[0m\u001b[0m\n",
      "\u001b[0m\u001b[1;32m    759 \u001b[0m            \u001b[0;32mif\u001b[0m \u001b[0mret\u001b[0m \u001b[0;32mis\u001b[0m \u001b[0;32mnot\u001b[0m \u001b[0mNone\u001b[0m\u001b[0;34m:\u001b[0m\u001b[0;34m\u001b[0m\u001b[0m\n",
      "\n",
      "  \u001b[0;32m/Users/ankurgos/.virtualenvs/holo/lib/python2.7/site-packages/tornado-5.1b1-py2.7-macosx-10.13-intel.egg/tornado/stack_context.py\u001b[0m(300)\u001b[0;36mnull_wrapper\u001b[0;34m()\u001b[0m\n",
      "\u001b[1;32m    299 \u001b[0m                \u001b[0m_state\u001b[0m\u001b[0;34m.\u001b[0m\u001b[0mcontexts\u001b[0m \u001b[0;34m=\u001b[0m \u001b[0mcap_contexts\u001b[0m\u001b[0;34m[\u001b[0m\u001b[0;36m0\u001b[0m\u001b[0;34m]\u001b[0m\u001b[0;34m\u001b[0m\u001b[0m\n",
      "\u001b[0;32m--> 300 \u001b[0;31m                \u001b[0;32mreturn\u001b[0m \u001b[0mfn\u001b[0m\u001b[0;34m(\u001b[0m\u001b[0;34m*\u001b[0m\u001b[0margs\u001b[0m\u001b[0;34m,\u001b[0m \u001b[0;34m**\u001b[0m\u001b[0mkwargs\u001b[0m\u001b[0;34m)\u001b[0m\u001b[0;34m\u001b[0m\u001b[0m\n",
      "\u001b[0m\u001b[1;32m    301 \u001b[0m            \u001b[0;32mfinally\u001b[0m\u001b[0;34m:\u001b[0m\u001b[0;34m\u001b[0m\u001b[0m\n",
      "\n",
      "  \u001b[0;32m/Users/ankurgos/.virtualenvs/holo/lib/python2.7/site-packages/pyzmq-17.0.0-py2.7-macosx-10.13-intel.egg/zmq/eventloop/zmqstream.py\u001b[0m(536)\u001b[0;36m<lambda>\u001b[0;34m()\u001b[0m\n",
      "\u001b[1;32m    535 \u001b[0m            \u001b[0;31m# explicitly schedule handling to avoid missing events due to edge-triggered FDs\u001b[0m\u001b[0;34m\u001b[0m\u001b[0;34m\u001b[0m\u001b[0m\n",
      "\u001b[0;32m--> 536 \u001b[0;31m            \u001b[0mself\u001b[0m\u001b[0;34m.\u001b[0m\u001b[0mio_loop\u001b[0m\u001b[0;34m.\u001b[0m\u001b[0madd_callback\u001b[0m\u001b[0;34m(\u001b[0m\u001b[0;32mlambda\u001b[0m \u001b[0;34m:\u001b[0m \u001b[0mself\u001b[0m\u001b[0;34m.\u001b[0m\u001b[0m_handle_events\u001b[0m\u001b[0;34m(\u001b[0m\u001b[0mself\u001b[0m\u001b[0;34m.\u001b[0m\u001b[0msocket\u001b[0m\u001b[0;34m,\u001b[0m \u001b[0;36m0\u001b[0m\u001b[0;34m)\u001b[0m\u001b[0;34m)\u001b[0m\u001b[0;34m\u001b[0m\u001b[0m\n",
      "\u001b[0m\u001b[1;32m    537 \u001b[0m\u001b[0;34m\u001b[0m\u001b[0m\n",
      "\n",
      "  \u001b[0;32m/Users/ankurgos/.virtualenvs/holo/lib/python2.7/site-packages/pyzmq-17.0.0-py2.7-macosx-10.13-intel.egg/zmq/eventloop/zmqstream.py\u001b[0m(450)\u001b[0;36m_handle_events\u001b[0;34m()\u001b[0m\n",
      "\u001b[1;32m    449 \u001b[0m            \u001b[0;32mif\u001b[0m \u001b[0mzmq_events\u001b[0m \u001b[0;34m&\u001b[0m \u001b[0mzmq\u001b[0m\u001b[0;34m.\u001b[0m\u001b[0mPOLLIN\u001b[0m \u001b[0;32mand\u001b[0m \u001b[0mself\u001b[0m\u001b[0;34m.\u001b[0m\u001b[0mreceiving\u001b[0m\u001b[0;34m(\u001b[0m\u001b[0;34m)\u001b[0m\u001b[0;34m:\u001b[0m\u001b[0;34m\u001b[0m\u001b[0m\n",
      "\u001b[0;32m--> 450 \u001b[0;31m                \u001b[0mself\u001b[0m\u001b[0;34m.\u001b[0m\u001b[0m_handle_recv\u001b[0m\u001b[0;34m(\u001b[0m\u001b[0;34m)\u001b[0m\u001b[0;34m\u001b[0m\u001b[0m\n",
      "\u001b[0m\u001b[1;32m    451 \u001b[0m                \u001b[0;32mif\u001b[0m \u001b[0;32mnot\u001b[0m \u001b[0mself\u001b[0m\u001b[0;34m.\u001b[0m\u001b[0msocket\u001b[0m\u001b[0;34m:\u001b[0m\u001b[0;34m\u001b[0m\u001b[0m\n",
      "\n",
      "  \u001b[0;32m/Users/ankurgos/.virtualenvs/holo/lib/python2.7/site-packages/pyzmq-17.0.0-py2.7-macosx-10.13-intel.egg/zmq/eventloop/zmqstream.py\u001b[0m(480)\u001b[0;36m_handle_recv\u001b[0;34m()\u001b[0m\n",
      "\u001b[1;32m    479 \u001b[0m                \u001b[0mcallback\u001b[0m \u001b[0;34m=\u001b[0m \u001b[0mself\u001b[0m\u001b[0;34m.\u001b[0m\u001b[0m_recv_callback\u001b[0m\u001b[0;34m\u001b[0m\u001b[0m\n",
      "\u001b[0;32m--> 480 \u001b[0;31m                \u001b[0mself\u001b[0m\u001b[0;34m.\u001b[0m\u001b[0m_run_callback\u001b[0m\u001b[0;34m(\u001b[0m\u001b[0mcallback\u001b[0m\u001b[0;34m,\u001b[0m \u001b[0mmsg\u001b[0m\u001b[0;34m)\u001b[0m\u001b[0;34m\u001b[0m\u001b[0m\n",
      "\u001b[0m\u001b[1;32m    481 \u001b[0m\u001b[0;34m\u001b[0m\u001b[0m\n",
      "\n",
      "  \u001b[0;32m/Users/ankurgos/.virtualenvs/holo/lib/python2.7/site-packages/pyzmq-17.0.0-py2.7-macosx-10.13-intel.egg/zmq/eventloop/zmqstream.py\u001b[0m(432)\u001b[0;36m_run_callback\u001b[0;34m()\u001b[0m\n",
      "\u001b[1;32m    431 \u001b[0m            \u001b[0;32mwith\u001b[0m \u001b[0mstack_context\u001b[0m\u001b[0;34m.\u001b[0m\u001b[0mNullContext\u001b[0m\u001b[0;34m(\u001b[0m\u001b[0;34m)\u001b[0m\u001b[0;34m:\u001b[0m\u001b[0;34m\u001b[0m\u001b[0m\n",
      "\u001b[0;32m--> 432 \u001b[0;31m                \u001b[0mcallback\u001b[0m\u001b[0;34m(\u001b[0m\u001b[0;34m*\u001b[0m\u001b[0margs\u001b[0m\u001b[0;34m,\u001b[0m \u001b[0;34m**\u001b[0m\u001b[0mkwargs\u001b[0m\u001b[0;34m)\u001b[0m\u001b[0;34m\u001b[0m\u001b[0m\n",
      "\u001b[0m\u001b[1;32m    433 \u001b[0m        \u001b[0;32mexcept\u001b[0m\u001b[0;34m:\u001b[0m\u001b[0;34m\u001b[0m\u001b[0m\n",
      "\n",
      "  \u001b[0;32m/Users/ankurgos/.virtualenvs/holo/lib/python2.7/site-packages/tornado-5.1b1-py2.7-macosx-10.13-intel.egg/tornado/stack_context.py\u001b[0m(300)\u001b[0;36mnull_wrapper\u001b[0;34m()\u001b[0m\n",
      "\u001b[1;32m    299 \u001b[0m                \u001b[0m_state\u001b[0m\u001b[0;34m.\u001b[0m\u001b[0mcontexts\u001b[0m \u001b[0;34m=\u001b[0m \u001b[0mcap_contexts\u001b[0m\u001b[0;34m[\u001b[0m\u001b[0;36m0\u001b[0m\u001b[0;34m]\u001b[0m\u001b[0;34m\u001b[0m\u001b[0m\n",
      "\u001b[0;32m--> 300 \u001b[0;31m                \u001b[0;32mreturn\u001b[0m \u001b[0mfn\u001b[0m\u001b[0;34m(\u001b[0m\u001b[0;34m*\u001b[0m\u001b[0margs\u001b[0m\u001b[0;34m,\u001b[0m \u001b[0;34m**\u001b[0m\u001b[0mkwargs\u001b[0m\u001b[0;34m)\u001b[0m\u001b[0;34m\u001b[0m\u001b[0m\n",
      "\u001b[0m\u001b[1;32m    301 \u001b[0m            \u001b[0;32mfinally\u001b[0m\u001b[0;34m:\u001b[0m\u001b[0;34m\u001b[0m\u001b[0m\n",
      "\n",
      "  \u001b[0;32m/Users/ankurgos/.virtualenvs/holo/lib/python2.7/site-packages/ipykernel-4.8.2-py2.7.egg/ipykernel/kernelbase.py\u001b[0m(283)\u001b[0;36mdispatcher\u001b[0;34m()\u001b[0m\n",
      "\u001b[1;32m    282 \u001b[0m            \u001b[0;32mdef\u001b[0m \u001b[0mdispatcher\u001b[0m\u001b[0;34m(\u001b[0m\u001b[0mmsg\u001b[0m\u001b[0;34m)\u001b[0m\u001b[0;34m:\u001b[0m\u001b[0;34m\u001b[0m\u001b[0m\n",
      "\u001b[0;32m--> 283 \u001b[0;31m                \u001b[0;32mreturn\u001b[0m \u001b[0mself\u001b[0m\u001b[0;34m.\u001b[0m\u001b[0mdispatch_shell\u001b[0m\u001b[0;34m(\u001b[0m\u001b[0mstream\u001b[0m\u001b[0;34m,\u001b[0m \u001b[0mmsg\u001b[0m\u001b[0;34m)\u001b[0m\u001b[0;34m\u001b[0m\u001b[0m\n",
      "\u001b[0m\u001b[1;32m    284 \u001b[0m            \u001b[0;32mreturn\u001b[0m \u001b[0mdispatcher\u001b[0m\u001b[0;34m\u001b[0m\u001b[0m\n",
      "\n",
      "  \u001b[0;32m/Users/ankurgos/.virtualenvs/holo/lib/python2.7/site-packages/ipykernel-4.8.2-py2.7.egg/ipykernel/kernelbase.py\u001b[0m(233)\u001b[0;36mdispatch_shell\u001b[0;34m()\u001b[0m\n",
      "\u001b[1;32m    232 \u001b[0m            \u001b[0;32mtry\u001b[0m\u001b[0;34m:\u001b[0m\u001b[0;34m\u001b[0m\u001b[0m\n",
      "\u001b[0;32m--> 233 \u001b[0;31m                \u001b[0mhandler\u001b[0m\u001b[0;34m(\u001b[0m\u001b[0mstream\u001b[0m\u001b[0;34m,\u001b[0m \u001b[0midents\u001b[0m\u001b[0;34m,\u001b[0m \u001b[0mmsg\u001b[0m\u001b[0;34m)\u001b[0m\u001b[0;34m\u001b[0m\u001b[0m\n",
      "\u001b[0m\u001b[1;32m    234 \u001b[0m            \u001b[0;32mexcept\u001b[0m \u001b[0mException\u001b[0m\u001b[0;34m:\u001b[0m\u001b[0;34m\u001b[0m\u001b[0m\n",
      "\n",
      "  \u001b[0;32m/Users/ankurgos/.virtualenvs/holo/lib/python2.7/site-packages/ipykernel-4.8.2-py2.7.egg/ipykernel/kernelbase.py\u001b[0m(399)\u001b[0;36mexecute_request\u001b[0;34m()\u001b[0m\n",
      "\u001b[1;32m    398 \u001b[0m        reply_content = self.do_execute(code, silent, store_history,\n",
      "\u001b[0;32m--> 399 \u001b[0;31m                                        user_expressions, allow_stdin)\n",
      "\u001b[0m\u001b[1;32m    400 \u001b[0m\u001b[0;34m\u001b[0m\u001b[0m\n",
      "\n",
      "  \u001b[0;32m/Users/ankurgos/.virtualenvs/holo/lib/python2.7/site-packages/ipykernel-4.8.2-py2.7.egg/ipykernel/ipkernel.py\u001b[0m(208)\u001b[0;36mdo_execute\u001b[0;34m()\u001b[0m\n",
      "\u001b[1;32m    207 \u001b[0m        \u001b[0;32mtry\u001b[0m\u001b[0;34m:\u001b[0m\u001b[0;34m\u001b[0m\u001b[0m\n",
      "\u001b[0;32m--> 208 \u001b[0;31m            \u001b[0mres\u001b[0m \u001b[0;34m=\u001b[0m \u001b[0mshell\u001b[0m\u001b[0;34m.\u001b[0m\u001b[0mrun_cell\u001b[0m\u001b[0;34m(\u001b[0m\u001b[0mcode\u001b[0m\u001b[0;34m,\u001b[0m \u001b[0mstore_history\u001b[0m\u001b[0;34m=\u001b[0m\u001b[0mstore_history\u001b[0m\u001b[0;34m,\u001b[0m \u001b[0msilent\u001b[0m\u001b[0;34m=\u001b[0m\u001b[0msilent\u001b[0m\u001b[0;34m)\u001b[0m\u001b[0;34m\u001b[0m\u001b[0m\n",
      "\u001b[0m\u001b[1;32m    209 \u001b[0m        \u001b[0;32mfinally\u001b[0m\u001b[0;34m:\u001b[0m\u001b[0;34m\u001b[0m\u001b[0m\n",
      "\n",
      "  \u001b[0;32m/Users/ankurgos/.virtualenvs/holo/lib/python2.7/site-packages/ipykernel-4.8.2-py2.7.egg/ipykernel/zmqshell.py\u001b[0m(537)\u001b[0;36mrun_cell\u001b[0;34m()\u001b[0m\n",
      "\u001b[1;32m    536 \u001b[0m        \u001b[0mself\u001b[0m\u001b[0;34m.\u001b[0m\u001b[0m_last_traceback\u001b[0m \u001b[0;34m=\u001b[0m \u001b[0mNone\u001b[0m\u001b[0;34m\u001b[0m\u001b[0m\n",
      "\u001b[0;32m--> 537 \u001b[0;31m        \u001b[0;32mreturn\u001b[0m \u001b[0msuper\u001b[0m\u001b[0;34m(\u001b[0m\u001b[0mZMQInteractiveShell\u001b[0m\u001b[0;34m,\u001b[0m \u001b[0mself\u001b[0m\u001b[0;34m)\u001b[0m\u001b[0;34m.\u001b[0m\u001b[0mrun_cell\u001b[0m\u001b[0;34m(\u001b[0m\u001b[0;34m*\u001b[0m\u001b[0margs\u001b[0m\u001b[0;34m,\u001b[0m \u001b[0;34m**\u001b[0m\u001b[0mkwargs\u001b[0m\u001b[0;34m)\u001b[0m\u001b[0;34m\u001b[0m\u001b[0m\n",
      "\u001b[0m\u001b[1;32m    538 \u001b[0m\u001b[0;34m\u001b[0m\u001b[0m\n",
      "\n",
      "  \u001b[0;32m/Users/ankurgos/.virtualenvs/holo/lib/python2.7/site-packages/ipython-5.6.0-py2.7.egg/IPython/core/interactiveshell.py\u001b[0m(2714)\u001b[0;36mrun_cell\u001b[0;34m()\u001b[0m\n",
      "\u001b[1;32m   2713 \u001b[0m                has_raised = self.run_ast_nodes(code_ast.body, cell_name,\n",
      "\u001b[0;32m-> 2714 \u001b[0;31m                   interactivity=interactivity, compiler=compiler, result=result)\n",
      "\u001b[0m\u001b[1;32m   2715 \u001b[0m\u001b[0;34m\u001b[0m\u001b[0m\n",
      "\n",
      "  \u001b[0;32m/Users/ankurgos/.virtualenvs/holo/lib/python2.7/site-packages/ipython-5.6.0-py2.7.egg/IPython/core/interactiveshell.py\u001b[0m(2818)\u001b[0;36mrun_ast_nodes\u001b[0;34m()\u001b[0m\n",
      "\u001b[1;32m   2817 \u001b[0m                \u001b[0mcode\u001b[0m \u001b[0;34m=\u001b[0m \u001b[0mcompiler\u001b[0m\u001b[0;34m(\u001b[0m\u001b[0mmod\u001b[0m\u001b[0;34m,\u001b[0m \u001b[0mcell_name\u001b[0m\u001b[0;34m,\u001b[0m \u001b[0;34m\"exec\"\u001b[0m\u001b[0;34m)\u001b[0m\u001b[0;34m\u001b[0m\u001b[0m\n",
      "\u001b[0;32m-> 2818 \u001b[0;31m                \u001b[0;32mif\u001b[0m \u001b[0mself\u001b[0m\u001b[0;34m.\u001b[0m\u001b[0mrun_code\u001b[0m\u001b[0;34m(\u001b[0m\u001b[0mcode\u001b[0m\u001b[0;34m,\u001b[0m \u001b[0mresult\u001b[0m\u001b[0;34m)\u001b[0m\u001b[0;34m:\u001b[0m\u001b[0;34m\u001b[0m\u001b[0m\n",
      "\u001b[0m\u001b[1;32m   2819 \u001b[0m                    \u001b[0;32mreturn\u001b[0m \u001b[0mTrue\u001b[0m\u001b[0;34m\u001b[0m\u001b[0m\n",
      "\n",
      "  \u001b[0;32m/Users/ankurgos/.virtualenvs/holo/lib/python2.7/site-packages/ipython-5.6.0-py2.7.egg/IPython/core/interactiveshell.py\u001b[0m(2878)\u001b[0;36mrun_code\u001b[0;34m()\u001b[0m\n",
      "\u001b[1;32m   2877 \u001b[0m                \u001b[0;31m#rprint('Running code', repr(code_obj)) # dbg\u001b[0m\u001b[0;34m\u001b[0m\u001b[0;34m\u001b[0m\u001b[0m\n",
      "\u001b[0;32m-> 2878 \u001b[0;31m                \u001b[0;32mexec\u001b[0m\u001b[0;34m(\u001b[0m\u001b[0mcode_obj\u001b[0m\u001b[0;34m,\u001b[0m \u001b[0mself\u001b[0m\u001b[0;34m.\u001b[0m\u001b[0muser_global_ns\u001b[0m\u001b[0;34m,\u001b[0m \u001b[0mself\u001b[0m\u001b[0;34m.\u001b[0m\u001b[0muser_ns\u001b[0m\u001b[0;34m)\u001b[0m\u001b[0;34m\u001b[0m\u001b[0m\n",
      "\u001b[0m\u001b[1;32m   2879 \u001b[0m            \u001b[0;32mfinally\u001b[0m\u001b[0;34m:\u001b[0m\u001b[0;34m\u001b[0m\u001b[0m\n",
      "\n",
      "  \u001b[0;32m<ipython-input-7-28b14741cb30>\u001b[0m(3)\u001b[0;36m<module>\u001b[0;34m()\u001b[0m\n",
      "\u001b[1;32m      2 \u001b[0m\u001b[0mdc_path\u001b[0m \u001b[0;34m=\u001b[0m \u001b[0;34m\"data/hospital_constraints.txt\"\u001b[0m\u001b[0;34m\u001b[0m\u001b[0m\n",
      "\u001b[0;32m----> 3 \u001b[0;31m\u001b[0mdcs\u001b[0m \u001b[0;34m=\u001b[0m \u001b[0msession\u001b[0m\u001b[0;34m.\u001b[0m\u001b[0mload_denial_constraints\u001b[0m\u001b[0;34m(\u001b[0m\u001b[0mdc_path\u001b[0m\u001b[0;34m)\u001b[0m\u001b[0;34m\u001b[0m\u001b[0m\n",
      "\u001b[0m\u001b[1;32m      4 \u001b[0m\u001b[0mdcs\u001b[0m\u001b[0;34m\u001b[0m\u001b[0m\n",
      "\n",
      "  \u001b[0;32m/Users/ankurgos/HoloClean/tutorials/build/bdist.macosx-10.13-intel/egg/holoclean/holoclean.py\u001b[0m(343)\u001b[0;36mload_denial_constraints\u001b[0;34m()\u001b[0m\n",
      "\n",
      "> \u001b[0;32m/Users/ankurgos/HoloClean/tutorials/build/bdist.macosx-10.13-intel/egg/holoclean/utils/parser_interface.py\u001b[0m(38)\u001b[0;36mload_denial_constraints\u001b[0;34m()\u001b[0m\n",
      "\n"
     ]
    },
    {
     "name": "stdout",
     "output_type": "stream",
     "text": [
      "ipdb> s\n",
      "> \u001b[0;32m/Users/ankurgos/HoloClean/tutorials/build/bdist.macosx-10.13-intel/egg/holoclean/utils/parser_interface.py\u001b[0m(39)\u001b[0;36mload_denial_constraints\u001b[0;34m()\u001b[0m\n",
      "\n",
      "ipdb> w\n",
      "  \u001b[0;32m/System/Library/Frameworks/Python.framework/Versions/2.7/lib/python2.7/runpy.py\u001b[0m(162)\u001b[0;36m_run_module_as_main\u001b[0;34m()\u001b[0m\n",
      "\u001b[1;32m    161 \u001b[0m    return _run_code(code, main_globals, None,\n",
      "\u001b[0;32m--> 162 \u001b[0;31m                     \"__main__\", fname, loader, pkg_name)\n",
      "\u001b[0m\u001b[1;32m    163 \u001b[0m\u001b[0;34m\u001b[0m\u001b[0m\n",
      "\n",
      "  \u001b[0;32m/System/Library/Frameworks/Python.framework/Versions/2.7/lib/python2.7/runpy.py\u001b[0m(72)\u001b[0;36m_run_code\u001b[0;34m()\u001b[0m\n",
      "\u001b[1;32m     71 \u001b[0m                       __package__ = pkg_name)\n",
      "\u001b[0;32m---> 72 \u001b[0;31m    \u001b[0;32mexec\u001b[0m \u001b[0mcode\u001b[0m \u001b[0;32min\u001b[0m \u001b[0mrun_globals\u001b[0m\u001b[0;34m\u001b[0m\u001b[0m\n",
      "\u001b[0m\u001b[1;32m     73 \u001b[0m    \u001b[0;32mreturn\u001b[0m \u001b[0mrun_globals\u001b[0m\u001b[0;34m\u001b[0m\u001b[0m\n",
      "\n",
      "  \u001b[0;32m/Users/ankurgos/.virtualenvs/holo/lib/python2.7/site-packages/ipykernel-4.8.2-py2.7.egg/ipykernel_launcher.py\u001b[0m(16)\u001b[0;36m<module>\u001b[0;34m()\u001b[0m\n",
      "\u001b[1;32m     14 \u001b[0m\u001b[0;34m\u001b[0m\u001b[0m\n",
      "\u001b[1;32m     15 \u001b[0m    \u001b[0;32mfrom\u001b[0m \u001b[0mipykernel\u001b[0m \u001b[0;32mimport\u001b[0m \u001b[0mkernelapp\u001b[0m \u001b[0;32mas\u001b[0m \u001b[0mapp\u001b[0m\u001b[0;34m\u001b[0m\u001b[0m\n",
      "\u001b[0;32m---> 16 \u001b[0;31m    \u001b[0mapp\u001b[0m\u001b[0;34m.\u001b[0m\u001b[0mlaunch_new_instance\u001b[0m\u001b[0;34m(\u001b[0m\u001b[0;34m)\u001b[0m\u001b[0;34m\u001b[0m\u001b[0m\n",
      "\u001b[0m\n",
      "  \u001b[0;32m/Users/ankurgos/.virtualenvs/holo/lib/python2.7/site-packages/traitlets-4.3.2-py2.7.egg/traitlets/config/application.py\u001b[0m(658)\u001b[0;36mlaunch_instance\u001b[0;34m()\u001b[0m\n",
      "\u001b[1;32m    657 \u001b[0m        \u001b[0mapp\u001b[0m\u001b[0;34m.\u001b[0m\u001b[0minitialize\u001b[0m\u001b[0;34m(\u001b[0m\u001b[0margv\u001b[0m\u001b[0;34m)\u001b[0m\u001b[0;34m\u001b[0m\u001b[0m\n",
      "\u001b[0;32m--> 658 \u001b[0;31m        \u001b[0mapp\u001b[0m\u001b[0;34m.\u001b[0m\u001b[0mstart\u001b[0m\u001b[0;34m(\u001b[0m\u001b[0;34m)\u001b[0m\u001b[0;34m\u001b[0m\u001b[0m\n",
      "\u001b[0m\u001b[1;32m    659 \u001b[0m\u001b[0;34m\u001b[0m\u001b[0m\n",
      "\n",
      "  \u001b[0;32m/Users/ankurgos/.virtualenvs/holo/lib/python2.7/site-packages/ipykernel-4.8.2-py2.7.egg/ipykernel/kernelapp.py\u001b[0m(486)\u001b[0;36mstart\u001b[0;34m()\u001b[0m\n",
      "\u001b[1;32m    485 \u001b[0m        \u001b[0;32mtry\u001b[0m\u001b[0;34m:\u001b[0m\u001b[0;34m\u001b[0m\u001b[0m\n",
      "\u001b[0;32m--> 486 \u001b[0;31m            \u001b[0mself\u001b[0m\u001b[0;34m.\u001b[0m\u001b[0mio_loop\u001b[0m\u001b[0;34m.\u001b[0m\u001b[0mstart\u001b[0m\u001b[0;34m(\u001b[0m\u001b[0;34m)\u001b[0m\u001b[0;34m\u001b[0m\u001b[0m\n",
      "\u001b[0m\u001b[1;32m    487 \u001b[0m        \u001b[0;32mexcept\u001b[0m \u001b[0mKeyboardInterrupt\u001b[0m\u001b[0;34m:\u001b[0m\u001b[0;34m\u001b[0m\u001b[0m\n",
      "\n",
      "  \u001b[0;32m/Users/ankurgos/.virtualenvs/holo/lib/python2.7/site-packages/tornado-5.1b1-py2.7-macosx-10.13-intel.egg/tornado/ioloop.py\u001b[0m(1017)\u001b[0;36mstart\u001b[0;34m()\u001b[0m\n",
      "\u001b[1;32m   1016 \u001b[0m                \u001b[0;32mfor\u001b[0m \u001b[0mi\u001b[0m \u001b[0;32min\u001b[0m \u001b[0mrange\u001b[0m\u001b[0;34m(\u001b[0m\u001b[0mncallbacks\u001b[0m\u001b[0;34m)\u001b[0m\u001b[0;34m:\u001b[0m\u001b[0;34m\u001b[0m\u001b[0m\n",
      "\u001b[0;32m-> 1017 \u001b[0;31m                    \u001b[0mself\u001b[0m\u001b[0;34m.\u001b[0m\u001b[0m_run_callback\u001b[0m\u001b[0;34m(\u001b[0m\u001b[0mself\u001b[0m\u001b[0;34m.\u001b[0m\u001b[0m_callbacks\u001b[0m\u001b[0;34m.\u001b[0m\u001b[0mpopleft\u001b[0m\u001b[0;34m(\u001b[0m\u001b[0;34m)\u001b[0m\u001b[0;34m)\u001b[0m\u001b[0;34m\u001b[0m\u001b[0m\n",
      "\u001b[0m\u001b[1;32m   1018 \u001b[0m                \u001b[0;32mfor\u001b[0m \u001b[0mtimeout\u001b[0m \u001b[0;32min\u001b[0m \u001b[0mdue_timeouts\u001b[0m\u001b[0;34m:\u001b[0m\u001b[0;34m\u001b[0m\u001b[0m\n",
      "\n",
      "  \u001b[0;32m/Users/ankurgos/.virtualenvs/holo/lib/python2.7/site-packages/tornado-5.1b1-py2.7-macosx-10.13-intel.egg/tornado/ioloop.py\u001b[0m(758)\u001b[0;36m_run_callback\u001b[0;34m()\u001b[0m\n",
      "\u001b[1;32m    757 \u001b[0m        \u001b[0;32mtry\u001b[0m\u001b[0;34m:\u001b[0m\u001b[0;34m\u001b[0m\u001b[0m\n",
      "\u001b[0;32m--> 758 \u001b[0;31m            \u001b[0mret\u001b[0m \u001b[0;34m=\u001b[0m \u001b[0mcallback\u001b[0m\u001b[0;34m(\u001b[0m\u001b[0;34m)\u001b[0m\u001b[0;34m\u001b[0m\u001b[0m\n",
      "\u001b[0m\u001b[1;32m    759 \u001b[0m            \u001b[0;32mif\u001b[0m \u001b[0mret\u001b[0m \u001b[0;32mis\u001b[0m \u001b[0;32mnot\u001b[0m \u001b[0mNone\u001b[0m\u001b[0;34m:\u001b[0m\u001b[0;34m\u001b[0m\u001b[0m\n",
      "\n",
      "  \u001b[0;32m/Users/ankurgos/.virtualenvs/holo/lib/python2.7/site-packages/tornado-5.1b1-py2.7-macosx-10.13-intel.egg/tornado/stack_context.py\u001b[0m(300)\u001b[0;36mnull_wrapper\u001b[0;34m()\u001b[0m\n",
      "\u001b[1;32m    299 \u001b[0m                \u001b[0m_state\u001b[0m\u001b[0;34m.\u001b[0m\u001b[0mcontexts\u001b[0m \u001b[0;34m=\u001b[0m \u001b[0mcap_contexts\u001b[0m\u001b[0;34m[\u001b[0m\u001b[0;36m0\u001b[0m\u001b[0;34m]\u001b[0m\u001b[0;34m\u001b[0m\u001b[0m\n",
      "\u001b[0;32m--> 300 \u001b[0;31m                \u001b[0;32mreturn\u001b[0m \u001b[0mfn\u001b[0m\u001b[0;34m(\u001b[0m\u001b[0;34m*\u001b[0m\u001b[0margs\u001b[0m\u001b[0;34m,\u001b[0m \u001b[0;34m**\u001b[0m\u001b[0mkwargs\u001b[0m\u001b[0;34m)\u001b[0m\u001b[0;34m\u001b[0m\u001b[0m\n",
      "\u001b[0m\u001b[1;32m    301 \u001b[0m            \u001b[0;32mfinally\u001b[0m\u001b[0;34m:\u001b[0m\u001b[0;34m\u001b[0m\u001b[0m\n",
      "\n",
      "  \u001b[0;32m/Users/ankurgos/.virtualenvs/holo/lib/python2.7/site-packages/pyzmq-17.0.0-py2.7-macosx-10.13-intel.egg/zmq/eventloop/zmqstream.py\u001b[0m(536)\u001b[0;36m<lambda>\u001b[0;34m()\u001b[0m\n",
      "\u001b[1;32m    535 \u001b[0m            \u001b[0;31m# explicitly schedule handling to avoid missing events due to edge-triggered FDs\u001b[0m\u001b[0;34m\u001b[0m\u001b[0;34m\u001b[0m\u001b[0m\n",
      "\u001b[0;32m--> 536 \u001b[0;31m            \u001b[0mself\u001b[0m\u001b[0;34m.\u001b[0m\u001b[0mio_loop\u001b[0m\u001b[0;34m.\u001b[0m\u001b[0madd_callback\u001b[0m\u001b[0;34m(\u001b[0m\u001b[0;32mlambda\u001b[0m \u001b[0;34m:\u001b[0m \u001b[0mself\u001b[0m\u001b[0;34m.\u001b[0m\u001b[0m_handle_events\u001b[0m\u001b[0;34m(\u001b[0m\u001b[0mself\u001b[0m\u001b[0;34m.\u001b[0m\u001b[0msocket\u001b[0m\u001b[0;34m,\u001b[0m \u001b[0;36m0\u001b[0m\u001b[0;34m)\u001b[0m\u001b[0;34m)\u001b[0m\u001b[0;34m\u001b[0m\u001b[0m\n",
      "\u001b[0m\u001b[1;32m    537 \u001b[0m\u001b[0;34m\u001b[0m\u001b[0m\n",
      "\n",
      "  \u001b[0;32m/Users/ankurgos/.virtualenvs/holo/lib/python2.7/site-packages/pyzmq-17.0.0-py2.7-macosx-10.13-intel.egg/zmq/eventloop/zmqstream.py\u001b[0m(450)\u001b[0;36m_handle_events\u001b[0;34m()\u001b[0m\n",
      "\u001b[1;32m    449 \u001b[0m            \u001b[0;32mif\u001b[0m \u001b[0mzmq_events\u001b[0m \u001b[0;34m&\u001b[0m \u001b[0mzmq\u001b[0m\u001b[0;34m.\u001b[0m\u001b[0mPOLLIN\u001b[0m \u001b[0;32mand\u001b[0m \u001b[0mself\u001b[0m\u001b[0;34m.\u001b[0m\u001b[0mreceiving\u001b[0m\u001b[0;34m(\u001b[0m\u001b[0;34m)\u001b[0m\u001b[0;34m:\u001b[0m\u001b[0;34m\u001b[0m\u001b[0m\n",
      "\u001b[0;32m--> 450 \u001b[0;31m                \u001b[0mself\u001b[0m\u001b[0;34m.\u001b[0m\u001b[0m_handle_recv\u001b[0m\u001b[0;34m(\u001b[0m\u001b[0;34m)\u001b[0m\u001b[0;34m\u001b[0m\u001b[0m\n",
      "\u001b[0m\u001b[1;32m    451 \u001b[0m                \u001b[0;32mif\u001b[0m \u001b[0;32mnot\u001b[0m \u001b[0mself\u001b[0m\u001b[0;34m.\u001b[0m\u001b[0msocket\u001b[0m\u001b[0;34m:\u001b[0m\u001b[0;34m\u001b[0m\u001b[0m\n",
      "\n",
      "  \u001b[0;32m/Users/ankurgos/.virtualenvs/holo/lib/python2.7/site-packages/pyzmq-17.0.0-py2.7-macosx-10.13-intel.egg/zmq/eventloop/zmqstream.py\u001b[0m(480)\u001b[0;36m_handle_recv\u001b[0;34m()\u001b[0m\n",
      "\u001b[1;32m    479 \u001b[0m                \u001b[0mcallback\u001b[0m \u001b[0;34m=\u001b[0m \u001b[0mself\u001b[0m\u001b[0;34m.\u001b[0m\u001b[0m_recv_callback\u001b[0m\u001b[0;34m\u001b[0m\u001b[0m\n",
      "\u001b[0;32m--> 480 \u001b[0;31m                \u001b[0mself\u001b[0m\u001b[0;34m.\u001b[0m\u001b[0m_run_callback\u001b[0m\u001b[0;34m(\u001b[0m\u001b[0mcallback\u001b[0m\u001b[0;34m,\u001b[0m \u001b[0mmsg\u001b[0m\u001b[0;34m)\u001b[0m\u001b[0;34m\u001b[0m\u001b[0m\n",
      "\u001b[0m\u001b[1;32m    481 \u001b[0m\u001b[0;34m\u001b[0m\u001b[0m\n",
      "\n",
      "  \u001b[0;32m/Users/ankurgos/.virtualenvs/holo/lib/python2.7/site-packages/pyzmq-17.0.0-py2.7-macosx-10.13-intel.egg/zmq/eventloop/zmqstream.py\u001b[0m(432)\u001b[0;36m_run_callback\u001b[0;34m()\u001b[0m\n",
      "\u001b[1;32m    431 \u001b[0m            \u001b[0;32mwith\u001b[0m \u001b[0mstack_context\u001b[0m\u001b[0;34m.\u001b[0m\u001b[0mNullContext\u001b[0m\u001b[0;34m(\u001b[0m\u001b[0;34m)\u001b[0m\u001b[0;34m:\u001b[0m\u001b[0;34m\u001b[0m\u001b[0m\n",
      "\u001b[0;32m--> 432 \u001b[0;31m                \u001b[0mcallback\u001b[0m\u001b[0;34m(\u001b[0m\u001b[0;34m*\u001b[0m\u001b[0margs\u001b[0m\u001b[0;34m,\u001b[0m \u001b[0;34m**\u001b[0m\u001b[0mkwargs\u001b[0m\u001b[0;34m)\u001b[0m\u001b[0;34m\u001b[0m\u001b[0m\n",
      "\u001b[0m\u001b[1;32m    433 \u001b[0m        \u001b[0;32mexcept\u001b[0m\u001b[0;34m:\u001b[0m\u001b[0;34m\u001b[0m\u001b[0m\n",
      "\n",
      "  \u001b[0;32m/Users/ankurgos/.virtualenvs/holo/lib/python2.7/site-packages/tornado-5.1b1-py2.7-macosx-10.13-intel.egg/tornado/stack_context.py\u001b[0m(300)\u001b[0;36mnull_wrapper\u001b[0;34m()\u001b[0m\n",
      "\u001b[1;32m    299 \u001b[0m                \u001b[0m_state\u001b[0m\u001b[0;34m.\u001b[0m\u001b[0mcontexts\u001b[0m \u001b[0;34m=\u001b[0m \u001b[0mcap_contexts\u001b[0m\u001b[0;34m[\u001b[0m\u001b[0;36m0\u001b[0m\u001b[0;34m]\u001b[0m\u001b[0;34m\u001b[0m\u001b[0m\n",
      "\u001b[0;32m--> 300 \u001b[0;31m                \u001b[0;32mreturn\u001b[0m \u001b[0mfn\u001b[0m\u001b[0;34m(\u001b[0m\u001b[0;34m*\u001b[0m\u001b[0margs\u001b[0m\u001b[0;34m,\u001b[0m \u001b[0;34m**\u001b[0m\u001b[0mkwargs\u001b[0m\u001b[0;34m)\u001b[0m\u001b[0;34m\u001b[0m\u001b[0m\n",
      "\u001b[0m\u001b[1;32m    301 \u001b[0m            \u001b[0;32mfinally\u001b[0m\u001b[0;34m:\u001b[0m\u001b[0;34m\u001b[0m\u001b[0m\n",
      "\n",
      "  \u001b[0;32m/Users/ankurgos/.virtualenvs/holo/lib/python2.7/site-packages/ipykernel-4.8.2-py2.7.egg/ipykernel/kernelbase.py\u001b[0m(283)\u001b[0;36mdispatcher\u001b[0;34m()\u001b[0m\n",
      "\u001b[1;32m    282 \u001b[0m            \u001b[0;32mdef\u001b[0m \u001b[0mdispatcher\u001b[0m\u001b[0;34m(\u001b[0m\u001b[0mmsg\u001b[0m\u001b[0;34m)\u001b[0m\u001b[0;34m:\u001b[0m\u001b[0;34m\u001b[0m\u001b[0m\n",
      "\u001b[0;32m--> 283 \u001b[0;31m                \u001b[0;32mreturn\u001b[0m \u001b[0mself\u001b[0m\u001b[0;34m.\u001b[0m\u001b[0mdispatch_shell\u001b[0m\u001b[0;34m(\u001b[0m\u001b[0mstream\u001b[0m\u001b[0;34m,\u001b[0m \u001b[0mmsg\u001b[0m\u001b[0;34m)\u001b[0m\u001b[0;34m\u001b[0m\u001b[0m\n",
      "\u001b[0m\u001b[1;32m    284 \u001b[0m            \u001b[0;32mreturn\u001b[0m \u001b[0mdispatcher\u001b[0m\u001b[0;34m\u001b[0m\u001b[0m\n",
      "\n",
      "  \u001b[0;32m/Users/ankurgos/.virtualenvs/holo/lib/python2.7/site-packages/ipykernel-4.8.2-py2.7.egg/ipykernel/kernelbase.py\u001b[0m(233)\u001b[0;36mdispatch_shell\u001b[0;34m()\u001b[0m\n",
      "\u001b[1;32m    232 \u001b[0m            \u001b[0;32mtry\u001b[0m\u001b[0;34m:\u001b[0m\u001b[0;34m\u001b[0m\u001b[0m\n",
      "\u001b[0;32m--> 233 \u001b[0;31m                \u001b[0mhandler\u001b[0m\u001b[0;34m(\u001b[0m\u001b[0mstream\u001b[0m\u001b[0;34m,\u001b[0m \u001b[0midents\u001b[0m\u001b[0;34m,\u001b[0m \u001b[0mmsg\u001b[0m\u001b[0;34m)\u001b[0m\u001b[0;34m\u001b[0m\u001b[0m\n",
      "\u001b[0m\u001b[1;32m    234 \u001b[0m            \u001b[0;32mexcept\u001b[0m \u001b[0mException\u001b[0m\u001b[0;34m:\u001b[0m\u001b[0;34m\u001b[0m\u001b[0m\n",
      "\n",
      "  \u001b[0;32m/Users/ankurgos/.virtualenvs/holo/lib/python2.7/site-packages/ipykernel-4.8.2-py2.7.egg/ipykernel/kernelbase.py\u001b[0m(399)\u001b[0;36mexecute_request\u001b[0;34m()\u001b[0m\n",
      "\u001b[1;32m    398 \u001b[0m        reply_content = self.do_execute(code, silent, store_history,\n",
      "\u001b[0;32m--> 399 \u001b[0;31m                                        user_expressions, allow_stdin)\n",
      "\u001b[0m\u001b[1;32m    400 \u001b[0m\u001b[0;34m\u001b[0m\u001b[0m\n",
      "\n",
      "  \u001b[0;32m/Users/ankurgos/.virtualenvs/holo/lib/python2.7/site-packages/ipykernel-4.8.2-py2.7.egg/ipykernel/ipkernel.py\u001b[0m(208)\u001b[0;36mdo_execute\u001b[0;34m()\u001b[0m\n",
      "\u001b[1;32m    207 \u001b[0m        \u001b[0;32mtry\u001b[0m\u001b[0;34m:\u001b[0m\u001b[0;34m\u001b[0m\u001b[0m\n",
      "\u001b[0;32m--> 208 \u001b[0;31m            \u001b[0mres\u001b[0m \u001b[0;34m=\u001b[0m \u001b[0mshell\u001b[0m\u001b[0;34m.\u001b[0m\u001b[0mrun_cell\u001b[0m\u001b[0;34m(\u001b[0m\u001b[0mcode\u001b[0m\u001b[0;34m,\u001b[0m \u001b[0mstore_history\u001b[0m\u001b[0;34m=\u001b[0m\u001b[0mstore_history\u001b[0m\u001b[0;34m,\u001b[0m \u001b[0msilent\u001b[0m\u001b[0;34m=\u001b[0m\u001b[0msilent\u001b[0m\u001b[0;34m)\u001b[0m\u001b[0;34m\u001b[0m\u001b[0m\n",
      "\u001b[0m\u001b[1;32m    209 \u001b[0m        \u001b[0;32mfinally\u001b[0m\u001b[0;34m:\u001b[0m\u001b[0;34m\u001b[0m\u001b[0m\n",
      "\n",
      "  \u001b[0;32m/Users/ankurgos/.virtualenvs/holo/lib/python2.7/site-packages/ipykernel-4.8.2-py2.7.egg/ipykernel/zmqshell.py\u001b[0m(537)\u001b[0;36mrun_cell\u001b[0;34m()\u001b[0m\n",
      "\u001b[1;32m    536 \u001b[0m        \u001b[0mself\u001b[0m\u001b[0;34m.\u001b[0m\u001b[0m_last_traceback\u001b[0m \u001b[0;34m=\u001b[0m \u001b[0mNone\u001b[0m\u001b[0;34m\u001b[0m\u001b[0m\n",
      "\u001b[0;32m--> 537 \u001b[0;31m        \u001b[0;32mreturn\u001b[0m \u001b[0msuper\u001b[0m\u001b[0;34m(\u001b[0m\u001b[0mZMQInteractiveShell\u001b[0m\u001b[0;34m,\u001b[0m \u001b[0mself\u001b[0m\u001b[0;34m)\u001b[0m\u001b[0;34m.\u001b[0m\u001b[0mrun_cell\u001b[0m\u001b[0;34m(\u001b[0m\u001b[0;34m*\u001b[0m\u001b[0margs\u001b[0m\u001b[0;34m,\u001b[0m \u001b[0;34m**\u001b[0m\u001b[0mkwargs\u001b[0m\u001b[0;34m)\u001b[0m\u001b[0;34m\u001b[0m\u001b[0m\n",
      "\u001b[0m\u001b[1;32m    538 \u001b[0m\u001b[0;34m\u001b[0m\u001b[0m\n",
      "\n",
      "  \u001b[0;32m/Users/ankurgos/.virtualenvs/holo/lib/python2.7/site-packages/ipython-5.6.0-py2.7.egg/IPython/core/interactiveshell.py\u001b[0m(2714)\u001b[0;36mrun_cell\u001b[0;34m()\u001b[0m\n",
      "\u001b[1;32m   2713 \u001b[0m                has_raised = self.run_ast_nodes(code_ast.body, cell_name,\n",
      "\u001b[0;32m-> 2714 \u001b[0;31m                   interactivity=interactivity, compiler=compiler, result=result)\n",
      "\u001b[0m\u001b[1;32m   2715 \u001b[0m\u001b[0;34m\u001b[0m\u001b[0m\n",
      "\n",
      "  \u001b[0;32m/Users/ankurgos/.virtualenvs/holo/lib/python2.7/site-packages/ipython-5.6.0-py2.7.egg/IPython/core/interactiveshell.py\u001b[0m(2818)\u001b[0;36mrun_ast_nodes\u001b[0;34m()\u001b[0m\n",
      "\u001b[1;32m   2817 \u001b[0m                \u001b[0mcode\u001b[0m \u001b[0;34m=\u001b[0m \u001b[0mcompiler\u001b[0m\u001b[0;34m(\u001b[0m\u001b[0mmod\u001b[0m\u001b[0;34m,\u001b[0m \u001b[0mcell_name\u001b[0m\u001b[0;34m,\u001b[0m \u001b[0;34m\"exec\"\u001b[0m\u001b[0;34m)\u001b[0m\u001b[0;34m\u001b[0m\u001b[0m\n",
      "\u001b[0;32m-> 2818 \u001b[0;31m                \u001b[0;32mif\u001b[0m \u001b[0mself\u001b[0m\u001b[0;34m.\u001b[0m\u001b[0mrun_code\u001b[0m\u001b[0;34m(\u001b[0m\u001b[0mcode\u001b[0m\u001b[0;34m,\u001b[0m \u001b[0mresult\u001b[0m\u001b[0;34m)\u001b[0m\u001b[0;34m:\u001b[0m\u001b[0;34m\u001b[0m\u001b[0m\n",
      "\u001b[0m\u001b[1;32m   2819 \u001b[0m                    \u001b[0;32mreturn\u001b[0m \u001b[0mTrue\u001b[0m\u001b[0;34m\u001b[0m\u001b[0m\n",
      "\n",
      "  \u001b[0;32m/Users/ankurgos/.virtualenvs/holo/lib/python2.7/site-packages/ipython-5.6.0-py2.7.egg/IPython/core/interactiveshell.py\u001b[0m(2878)\u001b[0;36mrun_code\u001b[0;34m()\u001b[0m\n",
      "\u001b[1;32m   2877 \u001b[0m                \u001b[0;31m#rprint('Running code', repr(code_obj)) # dbg\u001b[0m\u001b[0;34m\u001b[0m\u001b[0;34m\u001b[0m\u001b[0m\n",
      "\u001b[0;32m-> 2878 \u001b[0;31m                \u001b[0;32mexec\u001b[0m\u001b[0;34m(\u001b[0m\u001b[0mcode_obj\u001b[0m\u001b[0;34m,\u001b[0m \u001b[0mself\u001b[0m\u001b[0;34m.\u001b[0m\u001b[0muser_global_ns\u001b[0m\u001b[0;34m,\u001b[0m \u001b[0mself\u001b[0m\u001b[0;34m.\u001b[0m\u001b[0muser_ns\u001b[0m\u001b[0;34m)\u001b[0m\u001b[0;34m\u001b[0m\u001b[0m\n",
      "\u001b[0m\u001b[1;32m   2879 \u001b[0m            \u001b[0;32mfinally\u001b[0m\u001b[0;34m:\u001b[0m\u001b[0;34m\u001b[0m\u001b[0m\n",
      "\n",
      "  \u001b[0;32m<ipython-input-7-28b14741cb30>\u001b[0m(3)\u001b[0;36m<module>\u001b[0;34m()\u001b[0m\n",
      "\u001b[1;32m      2 \u001b[0m\u001b[0mdc_path\u001b[0m \u001b[0;34m=\u001b[0m \u001b[0;34m\"data/hospital_constraints.txt\"\u001b[0m\u001b[0;34m\u001b[0m\u001b[0m\n",
      "\u001b[0;32m----> 3 \u001b[0;31m\u001b[0mdcs\u001b[0m \u001b[0;34m=\u001b[0m \u001b[0msession\u001b[0m\u001b[0;34m.\u001b[0m\u001b[0mload_denial_constraints\u001b[0m\u001b[0;34m(\u001b[0m\u001b[0mdc_path\u001b[0m\u001b[0;34m)\u001b[0m\u001b[0;34m\u001b[0m\u001b[0m\n",
      "\u001b[0m\u001b[1;32m      4 \u001b[0m\u001b[0mdcs\u001b[0m\u001b[0;34m\u001b[0m\u001b[0m\n",
      "\n",
      "  \u001b[0;32m/Users/ankurgos/HoloClean/tutorials/build/bdist.macosx-10.13-intel/egg/holoclean/holoclean.py\u001b[0m(343)\u001b[0;36mload_denial_constraints\u001b[0;34m()\u001b[0m\n",
      "\n",
      "> \u001b[0;32m/Users/ankurgos/HoloClean/tutorials/build/bdist.macosx-10.13-intel/egg/holoclean/utils/parser_interface.py\u001b[0m(39)\u001b[0;36mload_denial_constraints\u001b[0;34m()\u001b[0m\n",
      "\n"
     ]
    },
    {
     "name": "stdout",
     "output_type": "stream",
     "text": [
      "ipdb> p self.session\n",
      "<holoclean.holoclean.Session instance at 0x108a94290>\n",
      "ipdb> p self.session.dataset.attributes['Init']\n",
      "['ProviderNumber', 'HospitalName', 'Address1', 'Address2', 'Address3', 'City', 'State', 'ZipCode', 'CountyName', 'PhoneNumber', 'HospitalType', 'HospitalOwner', 'EmergencyService', 'Condition', 'MeasureCode', 'MeasureName', 'Score', 'Sample', 'Stateavg', '__ind']\n"
     ]
    }
   ],
   "source": [
    "#Load a set of denial contstraints\n",
    "dc_path = \"data/hospital_constraints.txt\"\n",
    "dcs = session.load_denial_constraints(dc_path)\n",
    "dcs"
   ]
  },
  {
   "cell_type": "markdown",
   "metadata": {},
   "source": [
    "## Adding/Removing Constraints one-by-one"
   ]
  },
  {
   "cell_type": "code",
   "execution_count": 8,
   "metadata": {},
   "outputs": [
    {
     "data": {
      "text/plain": [
       "['t1&t2&EQ(t1.ZipCode,t2.ZipCode)&IQ(t1.City,t2.City)',\n",
       " 't1&t2&EQ(t1.ZipCode,t2.ZipCode)&IQ(t1.State,t2.State)',\n",
       " 't1&t2&EQ(t1.PhoneNumber,t2.PhoneNumber)&IQ(t1.ZipCode,t2.ZipCode)',\n",
       " 't1&t2&EQ(t1.PhoneNumber,t2.PhoneNumber)&IQ(t1.City,t2.City)',\n",
       " 't1&t2&EQ(t1.PhoneNumber,t2.PhoneNumber)&IQ(t1.State,t2.State)',\n",
       " 't1&t2&EQ(t1.ProviderNumber,t2.ProviderNumber)&EQ(t1.MeasureCode,t2.MeasureCode)&IQ(t1.Stateavg,t2.Stateavg)',\n",
       " 't1&t2&EQ(t1.MeasureCode,t2.MeasureCode)&IQ(t1.MeasureName,t2.MeasureName)',\n",
       " 't1&t2&EQ(t1.MeasureCode,t2.MeasureCode)&IQ(t1.Condition,t2.Condition)',\n",
       " 't1&t2&EQ(t1.State,t2.State)&EQ(t1.MeasureCode,t2.MeasureCode)&IQ(t1.Stateavg,t2.Stateavg)',\n",
       " 't1&t2&EQ(t1.ZipCode,t2.ZipCode)&IQ(t1.Stateavg,t2.Stateavg)']"
      ]
     },
     "execution_count": 8,
     "metadata": {},
     "output_type": "execute_result"
    }
   ],
   "source": [
    "dcs = session.add_denial_constraint('t1&t2&EQ(t1.ZipCode,t2.ZipCode)&IQ(t1.Stateavg,t2.Stateavg)')\n",
    "dcs"
   ]
  },
  {
   "cell_type": "markdown",
   "metadata": {},
   "source": [
    "# Denial Constraint Operators\n",
    "\n",
    "If you want a thorough introduction to denial constraints, refer to the [HoloClean Paper](https://arxiv.org/pdf/1702.00820.pdf). For the brief introduction the logical operators available are:\n",
    "\n",
    "|Operator|Meaning|\n",
    "|--------|-----|\n",
    "|`EQ(x.y,z.w)`| `x.y==z.w` |\n",
    "|`IQ(x.y,z.w)`| `x.y != z.w` |\n",
    "|`GT(x.y, z.w)`| `x.y > z.y`|\n",
    "|`GTE(x.y, z.w)`| `x.y >= z.y`|\n",
    "|`LT(x.y, z.w)`| `x.y < z.y`|\n",
    "|`LT(x.y, z.w)`| `x.y <= z.y`|\n",
    "\n",
    "All denial constraints are of the form `t1&t2&<X>&<Y>&...`  where `<X>` and `<Y>` are logical operators mentioned above.\n",
    "\n",
    "# Next Steps\n",
    "\n",
    "Denial Constraints are just one of HoloClean's error detectors that it uses for learning, if you'd like to write your own check out our [Error Detectors](Tutorial_3.ipynb) tutorial. If you want to learn about the next steps in the HoloClean pipeline, check out our [Complete Pipeline](Tutorial_2.ipynb) tutorial."
   ]
  },
  {
   "cell_type": "code",
   "execution_count": null,
   "metadata": {
    "collapsed": true
   },
   "outputs": [],
   "source": []
  }
 ],
 "metadata": {
  "kernelspec": {
   "display_name": "Python 2",
   "language": "python",
   "name": "python2"
  },
  "language_info": {
   "codemirror_mode": {
    "name": "ipython",
    "version": 2
   },
   "file_extension": ".py",
   "mimetype": "text/x-python",
   "name": "python",
   "nbconvert_exporter": "python",
   "pygments_lexer": "ipython2",
   "version": "2.7.10"
  }
 },
 "nbformat": 4,
 "nbformat_minor": 2
}
